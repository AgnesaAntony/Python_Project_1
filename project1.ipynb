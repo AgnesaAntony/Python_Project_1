{
 "cells": [
  {
   "cell_type": "code",
   "execution_count": 3,
   "id": "c784a5f3-290a-476c-aa22-6c26dc285570",
   "metadata": {
    "scrolled": true
   },
   "outputs": [],
   "source": [
    "import numpy as np\n",
    "import pandas as pd\n",
    "data= pd.read_csv(\"D:/unzip/IMDb Movies India.csv\",encoding='latin1')"
   ]
  },
  {
   "cell_type": "code",
   "execution_count": 4,
   "id": "081f42bb-f4df-4858-8e42-c998376cb87a",
   "metadata": {},
   "outputs": [
    {
     "name": "stdout",
     "output_type": "stream",
     "text": [
      "                                 Name    Year Duration            Genre  \\\n",
      "0                                         NaN      NaN            Drama   \n",
      "1  #Gadhvi (He thought he was Gandhi) -2019.0  109 min            Drama   \n",
      "2                         #Homecoming -2021.0   90 min   Drama, Musical   \n",
      "3                             #Yaaram -2019.0  110 min  Comedy, Romance   \n",
      "4                   ...And Once Again -2010.0  105 min            Drama   \n",
      "\n",
      "   Rating Votes            Director       Actor 1             Actor 2  \\\n",
      "0     NaN   NaN       J.S. Randhawa      Manmauji              Birbal   \n",
      "1     7.0     8       Gaurav Bakshi  Rasika Dugal      Vivek Ghamande   \n",
      "2     NaN   NaN  Soumyajit Majumdar  Sayani Gupta   Plabita Borthakur   \n",
      "3     4.4    35          Ovais Khan       Prateik          Ishita Raj   \n",
      "4     NaN   NaN        Amol Palekar  Rajat Kapoor  Rituparna Sengupta   \n",
      "\n",
      "           Actor 3  \n",
      "0  Rajendra Bhatia  \n",
      "1    Arvind Jangid  \n",
      "2       Roy Angana  \n",
      "3  Siddhant Kapoor  \n",
      "4      Antara Mali  \n"
     ]
    }
   ],
   "source": [
    "print(data.head())"
   ]
  },
  {
   "cell_type": "code",
   "execution_count": 5,
   "id": "f755b538-7081-4fc1-a29a-5fdd928cadbd",
   "metadata": {
    "scrolled": true
   },
   "outputs": [
    {
     "name": "stdout",
     "output_type": "stream",
     "text": [
      "Name           0\n",
      "Year         528\n",
      "Duration    8269\n",
      "Genre       1877\n",
      "Rating      7590\n",
      "Votes       7589\n",
      "Director     525\n",
      "Actor 1     1617\n",
      "Actor 2     2384\n",
      "Actor 3     3144\n",
      "dtype: int64\n"
     ]
    }
   ],
   "source": [
    "missing_values=data.isnull().sum()\n",
    "print(missing_values)"
   ]
  },
  {
   "cell_type": "code",
   "execution_count": 6,
   "id": "93b3ae34-bfc6-4265-b68e-18fbb810520b",
   "metadata": {},
   "outputs": [],
   "source": [
    "data_filled_mean=data.fillna(data.mode())"
   ]
  },
  {
   "cell_type": "code",
   "execution_count": 7,
   "id": "8d2e6b50-551f-479e-9f6f-cbb180ca6822",
   "metadata": {},
   "outputs": [
    {
     "name": "stdout",
     "output_type": "stream",
     "text": [
      "                                     Name    Year Duration            Genre  \\\n",
      "0                                         -2019.0  120 min            Drama   \n",
      "1      #Gadhvi (He thought he was Gandhi) -2019.0  109 min            Drama   \n",
      "2                             #Homecoming -2021.0   90 min   Drama, Musical   \n",
      "3                                 #Yaaram -2019.0  110 min  Comedy, Romance   \n",
      "4                       ...And Once Again -2010.0  105 min            Drama   \n",
      "...                                   ...     ...      ...              ...   \n",
      "15504                 Zulm Ko Jala Doonga -1988.0      NaN           Action   \n",
      "15505                               Zulmi -1999.0  129 min    Action, Drama   \n",
      "15506                           Zulmi Raj -2005.0      NaN           Action   \n",
      "15507                       Zulmi Shikari -1988.0      NaN           Action   \n",
      "15508                        Zulm-O-Sitam -1998.0  130 min    Action, Drama   \n",
      "\n",
      "       Rating Votes            Director           Actor 1             Actor 2  \\\n",
      "0         6.2     8       J.S. Randhawa          Manmauji              Birbal   \n",
      "1         7.0     8       Gaurav Bakshi      Rasika Dugal      Vivek Ghamande   \n",
      "2         NaN   NaN  Soumyajit Majumdar      Sayani Gupta   Plabita Borthakur   \n",
      "3         4.4    35          Ovais Khan           Prateik          Ishita Raj   \n",
      "4         NaN   NaN        Amol Palekar      Rajat Kapoor  Rituparna Sengupta   \n",
      "...       ...   ...                 ...               ...                 ...   \n",
      "15504     4.6    11       Mahendra Shah  Naseeruddin Shah       Sumeet Saigal   \n",
      "15505     4.5   655          Kuku Kohli      Akshay Kumar      Twinkle Khanna   \n",
      "15506     NaN   NaN          Kiran Thej   Sangeeta Tiwari                 NaN   \n",
      "15507     NaN   NaN                 NaN               NaN                 NaN   \n",
      "15508     6.2    20        K.C. Bokadia        Dharmendra          Jaya Prada   \n",
      "\n",
      "               Actor 3  \n",
      "0      Rajendra Bhatia  \n",
      "1        Arvind Jangid  \n",
      "2           Roy Angana  \n",
      "3      Siddhant Kapoor  \n",
      "4          Antara Mali  \n",
      "...                ...  \n",
      "15504    Suparna Anand  \n",
      "15505      Aruna Irani  \n",
      "15506              NaN  \n",
      "15507              NaN  \n",
      "15508      Arjun Sarja  \n",
      "\n",
      "[15509 rows x 10 columns]\n"
     ]
    }
   ],
   "source": [
    "print(data_filled_mean)"
   ]
  },
  {
   "cell_type": "markdown",
   "id": "33084a1d-d01d-4d1d-860b-9de056199419",
   "metadata": {},
   "source": []
  },
  {
   "cell_type": "code",
   "execution_count": 9,
   "id": "75316707-2bea-4d80-b09d-d8de000225f1",
   "metadata": {},
   "outputs": [
    {
     "name": "stdout",
     "output_type": "stream",
     "text": [
      "Name         object\n",
      "Year        float64\n",
      "Duration    float64\n",
      "Genre        object\n",
      "Rating      float64\n",
      "Votes       float64\n",
      "Director     object\n",
      "Actor 1      object\n",
      "Actor 2      object\n",
      "Actor 3      object\n",
      "dtype: object\n",
      "Name           0\n",
      "Year         528\n",
      "Duration    8269\n",
      "Genre       1877\n",
      "Rating      7590\n",
      "Votes       8961\n",
      "Director     525\n",
      "Actor 1     1617\n",
      "Actor 2     2384\n",
      "Actor 3     3144\n",
      "dtype: int64\n",
      "                                 Name    Year  Duration            Genre  \\\n",
      "0                                         NaN       NaN            Drama   \n",
      "1  #Gadhvi (He thought he was Gandhi) -2019.0     109.0            Drama   \n",
      "2                         #Homecoming -2021.0      90.0   Drama, Musical   \n",
      "3                             #Yaaram -2019.0     110.0  Comedy, Romance   \n",
      "4                   ...And Once Again -2010.0     105.0            Drama   \n",
      "\n",
      "   Rating  Votes            Director       Actor 1             Actor 2  \\\n",
      "0     NaN    NaN       J.S. Randhawa      Manmauji              Birbal   \n",
      "1     7.0    8.0       Gaurav Bakshi  Rasika Dugal      Vivek Ghamande   \n",
      "2     NaN    NaN  Soumyajit Majumdar  Sayani Gupta   Plabita Borthakur   \n",
      "3     4.4   35.0          Ovais Khan       Prateik          Ishita Raj   \n",
      "4     NaN    NaN        Amol Palekar  Rajat Kapoor  Rituparna Sengupta   \n",
      "\n",
      "           Actor 3  \n",
      "0  Rajendra Bhatia  \n",
      "1    Arvind Jangid  \n",
      "2       Roy Angana  \n",
      "3  Siddhant Kapoor  \n",
      "4      Antara Mali  \n",
      "Name           0\n",
      "Year         528\n",
      "Duration    8269\n",
      "Genre          0\n",
      "Rating      7590\n",
      "Votes       8961\n",
      "Director       0\n",
      "Actor 1        0\n",
      "Actor 2        0\n",
      "Actor 3        0\n",
      "dtype: int64\n"
     ]
    }
   ],
   "source": [
    "data['Year'] = pd.to_numeric(data['Year'], errors='coerce')\n",
    "data['Duration'] = data['Duration'].str.replace(' min', '')  # Remove ' min' and convert to numeric\n",
    "data['Duration'] = pd.to_numeric(data['Duration'], errors='coerce')\n",
    "data['Rating'] = pd.to_numeric(data['Rating'], errors='coerce')\n",
    "data['Votes'] = pd.to_numeric(data['Votes'], errors='coerce')\n",
    "print(data.dtypes)\n",
    "print(data.isnull().sum())\n",
    "categorical_cols = data.select_dtypes(include=['object']).columns\n",
    "data[categorical_cols] = data[categorical_cols].fillna('Unknown')\n",
    "print(data.head())\n",
    "print(data.isnull().sum())\n"
   ]
  },
  {
   "cell_type": "code",
   "execution_count": 10,
   "id": "d3ffcf5d-bb6d-4a8a-9727-bbe825dcc2fe",
   "metadata": {},
   "outputs": [
    {
     "name": "stdout",
     "output_type": "stream",
     "text": [
      "Name         object\n",
      "Year        float64\n",
      "Duration    float64\n",
      "Genre        object\n",
      "Rating      float64\n",
      "Votes       float64\n",
      "Director     object\n",
      "Actor 1      object\n",
      "Actor 2      object\n",
      "Actor 3      object\n",
      "dtype: object\n",
      "Name           0\n",
      "Year         528\n",
      "Duration    8269\n",
      "Genre          0\n",
      "Rating      7590\n",
      "Votes       8961\n",
      "Director       0\n",
      "Actor 1        0\n",
      "Actor 2        0\n",
      "Actor 3        0\n",
      "dtype: int64\n",
      "                                 Name    Year  Duration            Genre  \\\n",
      "0                                         NaN       NaN            Drama   \n",
      "1  #Gadhvi (He thought he was Gandhi) -2019.0     109.0            Drama   \n",
      "2                         #Homecoming -2021.0      90.0   Drama, Musical   \n",
      "3                             #Yaaram -2019.0     110.0  Comedy, Romance   \n",
      "4                   ...And Once Again -2010.0     105.0            Drama   \n",
      "\n",
      "   Rating  Votes            Director       Actor 1             Actor 2  \\\n",
      "0     NaN    NaN       J.S. Randhawa      Manmauji              Birbal   \n",
      "1     7.0    8.0       Gaurav Bakshi  Rasika Dugal      Vivek Ghamande   \n",
      "2     NaN    NaN  Soumyajit Majumdar  Sayani Gupta   Plabita Borthakur   \n",
      "3     4.4   35.0          Ovais Khan       Prateik          Ishita Raj   \n",
      "4     NaN    NaN        Amol Palekar  Rajat Kapoor  Rituparna Sengupta   \n",
      "\n",
      "           Actor 3  \n",
      "0  Rajendra Bhatia  \n",
      "1    Arvind Jangid  \n",
      "2       Roy Angana  \n",
      "3  Siddhant Kapoor  \n",
      "4      Antara Mali  \n",
      "Name           0\n",
      "Year         528\n",
      "Duration    8269\n",
      "Genre          0\n",
      "Rating      7590\n",
      "Votes       8961\n",
      "Director       0\n",
      "Actor 1        0\n",
      "Actor 2        0\n",
      "Actor 3        0\n",
      "dtype: int64\n"
     ]
    }
   ],
   "source": [
    "data['Duration'] = data['Duration'].astype(str).str.replace(' min', '', regex=False)\n",
    "data['Year'] = pd.to_numeric(data['Year'], errors='coerce')\n",
    "data['Duration'] = pd.to_numeric(data['Duration'], errors='coerce')\n",
    "data['Rating'] = pd.to_numeric(data['Rating'], errors='coerce')\n",
    "data['Votes'] = pd.to_numeric(data['Votes'], errors='coerce')\n",
    "print(data.dtypes)\n",
    "print(data.isnull().sum())\n",
    "categorical_cols = data.select_dtypes(include=['object']).columns\n",
    "data[categorical_cols] = data[categorical_cols].fillna('Unknown')\n",
    "print(data.head())\n",
    "print(data.isnull().sum())"
   ]
  },
  {
   "cell_type": "code",
   "execution_count": 11,
   "id": "51448054-2e01-4d1a-98d0-6221e706e5f5",
   "metadata": {},
   "outputs": [
    {
     "name": "stdout",
     "output_type": "stream",
     "text": [
      "Name        0\n",
      "Year        0\n",
      "Duration    0\n",
      "Genre       0\n",
      "Rating      0\n",
      "Votes       0\n",
      "Director    0\n",
      "Actor 1     0\n",
      "Actor 2     0\n",
      "Actor 3     0\n",
      "dtype: int64\n"
     ]
    }
   ],
   "source": [
    "data['Year'] = data['Year'].fillna(data['Year'].median())\n",
    "data['Duration'] = data['Duration'].fillna(data['Duration'].median())\n",
    "data['Rating'] = data['Rating'].fillna(data['Rating'].median())\n",
    "data['Votes'] = data['Votes'].fillna(data['Votes'].median())\n",
    "print(data.isnull().sum())\n"
   ]
  },
  {
   "cell_type": "code",
   "execution_count": 21,
   "id": "61fe5e8d-6bfd-409b-b75a-390e709a8018",
   "metadata": {},
   "outputs": [
    {
     "data": {
      "image/png": "[encoded data removed]",
      "text/plain": [
       "<Figure size 640x480 with 1 Axes>"
      ]
     },
     "metadata": {},
     "output_type": "display_data"
    }
   ],
   "source": [
    "import matplotlib.pyplot as plt\n",
    "plt.hist(data['Rating'], bins=10, color='skyblue', edgecolor='black')\n",
    "plt.xlabel('Rating')\n",
    "plt.ylabel('Frequency')\n",
    "plt.title('Distribution of Movie Ratings')\n",
    "plt.show()\n"
   ]
  },
  {
   "cell_type": "code",
   "execution_count": 26,
   "id": "66d50977-104a-4e9f-a0bb-db3db767a04a",
   "metadata": {},
   "outputs": [
    {
     "data": {
      "image/png": "[encoded data removed]",
      "text/plain": [
       "<Figure size 640x480 with 1 Axes>"
      ]
     },
     "metadata": {},
     "output_type": "display_data"
    }
   ],
   "source": [
    "data['Primary Genre'] = data['Genre'].apply(lambda x: x.split(',')[0] if ',' in x else x)\n",
    "genre_ratings = data.groupby('Primary Genre')['Rating'].mean()\n",
    "genre_ratings.plot(kind='bar', color='skyblue', edgecolor='black')\n",
    "plt.xlabel('Genre')\n",
    "plt.ylabel('Average Rating')\n",
    "plt.title('Average Movie Ratings by Genre')\n",
    "plt.show()\n"
   ]
  },
  {
   "cell_type": "code",
   "execution_count": 28,
   "id": "9a9d4805-11d6-4d34-9f40-c698d5aa5c1d",
   "metadata": {},
   "outputs": [
    {
     "name": "stdout",
     "output_type": "stream",
     "text": [
      "Unknown               7145\n",
      "Mithun Chakraborty     241\n",
      "Dharmendra             231\n",
      "Ashok Kumar            227\n",
      "Jeetendra              179\n",
      "Amitabh Bachchan       178\n",
      "Rekha                  142\n",
      "Rajesh Khanna          139\n",
      "Shashi Kapoor          133\n",
      "Shatrughan Sinha       131\n",
      "Name: count, dtype: int64\n"
     ]
    }
   ],
   "source": [
    "all_actors = pd.concat([data['Actor 1'], data['Actor 2'], data['Actor 3']])\n",
    "actor_counts = all_actors.value_counts()\n",
    "print(actor_counts.head(10))"
   ]
  },
  {
   "cell_type": "code",
   "execution_count": 32,
   "id": "756c4e4d-acda-4513-85f7-a436c6b0e340",
   "metadata": {},
   "outputs": [],
   "source": [
    "data.to_csv('cleaned_data.csv', index=False)\n"
   ]
  },
  {
   "cell_type": "code",
   "execution_count": null,
   "id": "594b9a06-e45c-45ed-8abc-1ea3eb772ce3",
   "metadata": {},
   "outputs": [],
   "source": []
  }
 ],
 "metadata": {
  "kernelspec": {
   "display_name": "Python 3 (ipykernel)",
   "language": "python",
   "name": "python3"
  },
  "language_info": {
   "codemirror_mode": {
    "name": "ipython",
    "version": 3
   },
   "file_extension": ".py",
   "mimetype": "text/x-python",
   "name": "python",
   "nbconvert_exporter": "python",
   "pygments_lexer": "ipython3",
   "version": "3.12.7"
  }
 },
 "nbformat": 4,
 "nbformat_minor": 5
}
